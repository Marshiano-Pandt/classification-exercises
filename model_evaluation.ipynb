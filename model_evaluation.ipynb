{
 "cells": [
  {
   "cell_type": "code",
   "execution_count": 3,
   "id": "f7d62285-94a1-4b39-9843-9bc28302ad5c",
   "metadata": {
    "tags": []
   },
   "outputs": [],
   "source": [
    "import pandas as pd \n",
    "import numpy as np\n",
    "from sklearn.metrics import confusion_matrix\n"
   ]
  },
  {
   "cell_type": "markdown",
   "id": "b0f1d780-709d-4368-9ab2-f40bbe055c26",
   "metadata": {},
   "source": [
    "In the context of this problem, what is a false positive?\n",
    "\n",
    "In the context of this problem, what is a false negative?\n",
    "\n",
    "How would you describe this model?"
   ]
  },
  {
   "cell_type": "markdown",
   "id": "2fd26fbe-46b0-46ae-9a25-a7d4409305ac",
   "metadata": {
    "tags": []
   },
   "source": [
    "|               | pred dog   | pred cat   |\n",
    "|:------------  |-----------:|-----------:|\n",
    "| actual dog    |         46 |         7  |\n",
    "| actual cat    |         13 |         34 |\n"
   ]
  },
  {
   "cell_type": "code",
   "execution_count": 4,
   "id": "7503457b-852a-4579-94cd-a14d76abf786",
   "metadata": {
    "tags": []
   },
   "outputs": [],
   "source": [
    "tp = 46\n",
    "fn = 7\n",
    "tn = 34\n",
    "fp = 13"
   ]
  },
  {
   "cell_type": "markdown",
   "id": "7a9a5252-c352-4c63-8fa4-67cfe843e18c",
   "metadata": {},
   "source": [
    "accuratly predicts cats or dogs 80% of the time "
   ]
  },
  {
   "cell_type": "markdown",
   "id": "d819c20e-1cde-453e-aeac-cc4ccc2209a6",
   "metadata": {},
   "source": [
    "## Accuracy"
   ]
  },
  {
   "cell_type": "markdown",
   "id": "fd83566a-8720-4dcf-842a-97786b60de82",
   "metadata": {},
   "source": [
    "Accuracy evaluates how many correct predictions (both positive and negative) were made over the total number of predictions."
   ]
  },
  {
   "cell_type": "code",
   "execution_count": 5,
   "id": "7c114328-0399-4b5e-9ded-16e4d0fafd7b",
   "metadata": {
    "tags": []
   },
   "outputs": [
    {
     "data": {
      "text/plain": [
       "0.8"
      ]
     },
     "execution_count": 5,
     "metadata": {},
     "output_type": "execute_result"
    }
   ],
   "source": [
    "(tp + tn) / (tp + tn + fp + fn)"
   ]
  },
  {
   "cell_type": "markdown",
   "id": "80be1881-2b11-4591-b55b-2c621419d337",
   "metadata": {},
   "source": [
    "You are working as a datascientist working for Codeup Cody Creator (C3 for short), a rubber-duck manufacturing plant.\n",
    "\n",
    "Unfortunately, some of the rubber ducks that are produced will have defects. Your team has built several models that try to predict those defects, and the data from their predictions can be found here.\n",
    "Use the predictions dataset and pandas to help answer the following questions:\n",
    "\n",
    "An internal team wants to investigate the cause of the manufacturing defects. They tell you that they want to identify as many of the ducks that have a defect as possible. Which evaluation metric would be appropriate here? Which model would be the best fit for this use case?\n",
    "\n",
    "Recently several stories in the local news have come out highlighting customers who received a rubber duck with a defect, and portraying C3 in a bad light. The PR team has decided to launch a program that gives customers with a defective duck a vacation to Hawaii. They need you to predict which ducks will have defects, but tell you the really don't want to accidentally give out a vacation package when the duck really doesn't have a defect. Which evaluation metric would be appropriate here? Which model would be the best fit for this use case?"
   ]
  },
  {
   "cell_type": "code",
   "execution_count": 9,
   "id": "82b54e1b-7690-4777-a32c-3623269b4ca3",
   "metadata": {
    "tags": []
   },
   "outputs": [
    {
     "data": {
      "text/html": [
       "<div>\n",
       "<style scoped>\n",
       "    .dataframe tbody tr th:only-of-type {\n",
       "        vertical-align: middle;\n",
       "    }\n",
       "\n",
       "    .dataframe tbody tr th {\n",
       "        vertical-align: top;\n",
       "    }\n",
       "\n",
       "    .dataframe thead th {\n",
       "        text-align: right;\n",
       "    }\n",
       "</style>\n",
       "<table border=\"1\" class=\"dataframe\">\n",
       "  <thead>\n",
       "    <tr style=\"text-align: right;\">\n",
       "      <th></th>\n",
       "      <th>actual</th>\n",
       "      <th>model1</th>\n",
       "      <th>model2</th>\n",
       "      <th>model3</th>\n",
       "    </tr>\n",
       "  </thead>\n",
       "  <tbody>\n",
       "    <tr>\n",
       "      <th>0</th>\n",
       "      <td>No Defect</td>\n",
       "      <td>No Defect</td>\n",
       "      <td>Defect</td>\n",
       "      <td>No Defect</td>\n",
       "    </tr>\n",
       "    <tr>\n",
       "      <th>1</th>\n",
       "      <td>No Defect</td>\n",
       "      <td>No Defect</td>\n",
       "      <td>Defect</td>\n",
       "      <td>Defect</td>\n",
       "    </tr>\n",
       "    <tr>\n",
       "      <th>2</th>\n",
       "      <td>No Defect</td>\n",
       "      <td>No Defect</td>\n",
       "      <td>Defect</td>\n",
       "      <td>No Defect</td>\n",
       "    </tr>\n",
       "    <tr>\n",
       "      <th>3</th>\n",
       "      <td>No Defect</td>\n",
       "      <td>Defect</td>\n",
       "      <td>Defect</td>\n",
       "      <td>Defect</td>\n",
       "    </tr>\n",
       "    <tr>\n",
       "      <th>4</th>\n",
       "      <td>No Defect</td>\n",
       "      <td>No Defect</td>\n",
       "      <td>Defect</td>\n",
       "      <td>No Defect</td>\n",
       "    </tr>\n",
       "    <tr>\n",
       "      <th>...</th>\n",
       "      <td>...</td>\n",
       "      <td>...</td>\n",
       "      <td>...</td>\n",
       "      <td>...</td>\n",
       "    </tr>\n",
       "    <tr>\n",
       "      <th>195</th>\n",
       "      <td>No Defect</td>\n",
       "      <td>No Defect</td>\n",
       "      <td>Defect</td>\n",
       "      <td>Defect</td>\n",
       "    </tr>\n",
       "    <tr>\n",
       "      <th>196</th>\n",
       "      <td>Defect</td>\n",
       "      <td>Defect</td>\n",
       "      <td>No Defect</td>\n",
       "      <td>No Defect</td>\n",
       "    </tr>\n",
       "    <tr>\n",
       "      <th>197</th>\n",
       "      <td>No Defect</td>\n",
       "      <td>No Defect</td>\n",
       "      <td>No Defect</td>\n",
       "      <td>No Defect</td>\n",
       "    </tr>\n",
       "    <tr>\n",
       "      <th>198</th>\n",
       "      <td>No Defect</td>\n",
       "      <td>No Defect</td>\n",
       "      <td>Defect</td>\n",
       "      <td>Defect</td>\n",
       "    </tr>\n",
       "    <tr>\n",
       "      <th>199</th>\n",
       "      <td>No Defect</td>\n",
       "      <td>No Defect</td>\n",
       "      <td>No Defect</td>\n",
       "      <td>Defect</td>\n",
       "    </tr>\n",
       "  </tbody>\n",
       "</table>\n",
       "<p>200 rows × 4 columns</p>\n",
       "</div>"
      ],
      "text/plain": [
       "        actual     model1     model2     model3\n",
       "0    No Defect  No Defect     Defect  No Defect\n",
       "1    No Defect  No Defect     Defect     Defect\n",
       "2    No Defect  No Defect     Defect  No Defect\n",
       "3    No Defect     Defect     Defect     Defect\n",
       "4    No Defect  No Defect     Defect  No Defect\n",
       "..         ...        ...        ...        ...\n",
       "195  No Defect  No Defect     Defect     Defect\n",
       "196     Defect     Defect  No Defect  No Defect\n",
       "197  No Defect  No Defect  No Defect  No Defect\n",
       "198  No Defect  No Defect     Defect     Defect\n",
       "199  No Defect  No Defect  No Defect     Defect\n",
       "\n",
       "[200 rows x 4 columns]"
      ]
     },
     "execution_count": 9,
     "metadata": {},
     "output_type": "execute_result"
    }
   ],
   "source": [
    "c3_df = pd.read_csv('c3.csv')\n",
    "c3_df"
   ]
  },
  {
   "cell_type": "code",
   "execution_count": 10,
   "id": "269555e4-8190-47e5-a9bb-4d0d970e8d20",
   "metadata": {
    "tags": []
   },
   "outputs": [
    {
     "data": {
      "text/plain": [
       "(200, 4)"
      ]
     },
     "execution_count": 10,
     "metadata": {},
     "output_type": "execute_result"
    }
   ],
   "source": [
    "c3_df.shape"
   ]
  },
  {
   "cell_type": "code",
   "execution_count": 21,
   "id": "58d94e30-e883-44f2-9269-7d646ea5ed07",
   "metadata": {
    "tags": []
   },
   "outputs": [
    {
     "data": {
      "text/plain": [
       "<bound method DataFrame.info of         actual     model1     model2     model3\n",
       "0    No Defect  No Defect     Defect  No Defect\n",
       "1    No Defect  No Defect     Defect     Defect\n",
       "2    No Defect  No Defect     Defect  No Defect\n",
       "3    No Defect     Defect     Defect     Defect\n",
       "4    No Defect  No Defect     Defect  No Defect\n",
       "..         ...        ...        ...        ...\n",
       "195  No Defect  No Defect     Defect     Defect\n",
       "196     Defect     Defect  No Defect  No Defect\n",
       "197  No Defect  No Defect  No Defect  No Defect\n",
       "198  No Defect  No Defect     Defect     Defect\n",
       "199  No Defect  No Defect  No Defect     Defect\n",
       "\n",
       "[200 rows x 4 columns]>"
      ]
     },
     "execution_count": 21,
     "metadata": {},
     "output_type": "execute_result"
    }
   ],
   "source": [
    "c3_df.info"
   ]
  },
  {
   "cell_type": "code",
   "execution_count": 23,
   "id": "a7b355fc-b22d-403c-ba6b-b948fae8b9ac",
   "metadata": {
    "tags": []
   },
   "outputs": [
    {
     "data": {
      "text/plain": [
       "Index(['actual', 'model1', 'model2', 'model3'], dtype='object')"
      ]
     },
     "execution_count": 23,
     "metadata": {},
     "output_type": "execute_result"
    }
   ],
   "source": [
    "c3_df.columns"
   ]
  },
  {
   "cell_type": "markdown",
   "id": "a21f71d1-8161-4d78-a57b-86c0a32a334d",
   "metadata": {},
   "source": [
    "## Establish Baseline"
   ]
  },
  {
   "cell_type": "code",
   "execution_count": 11,
   "id": "26f3d183-a4ee-4a6b-84e0-d17ec7590543",
   "metadata": {
    "tags": []
   },
   "outputs": [
    {
     "data": {
      "text/plain": [
       "0    No Defect\n",
       "Name: actual, dtype: object"
      ]
     },
     "execution_count": 11,
     "metadata": {},
     "output_type": "execute_result"
    }
   ],
   "source": [
    "c3_df.actual.mode()"
   ]
  },
  {
   "cell_type": "code",
   "execution_count": 12,
   "id": "8a0264a2-3d44-4547-8d14-d10f06d70de1",
   "metadata": {
    "tags": []
   },
   "outputs": [
    {
     "data": {
      "text/plain": [
       "actual\n",
       "No Defect    184\n",
       "Defect        16\n",
       "Name: count, dtype: int64"
      ]
     },
     "execution_count": 12,
     "metadata": {},
     "output_type": "execute_result"
    }
   ],
   "source": [
    "#baseline\n",
    "c3_df.actual.value_counts()"
   ]
  },
  {
   "cell_type": "markdown",
   "id": "ad27b282-ca08-4e64-a1a9-e9e8ac4692c2",
   "metadata": {},
   "source": [
    "## An internal team wants to investigate the cause of the manufacturing defects. They tell you that they want to identify as many of the ducks that have a defect as possible. Which evaluation metric would be appropriate here? Which model would be the best fit for this use case?"
   ]
  },
  {
   "cell_type": "code",
   "execution_count": 13,
   "id": "666a0a51-0e99-4fe8-b0cd-12cfb164b667",
   "metadata": {
    "tags": []
   },
   "outputs": [
    {
     "data": {
      "text/plain": [
       "0.08"
      ]
     },
     "execution_count": 13,
     "metadata": {},
     "output_type": "execute_result"
    }
   ],
   "source": [
    "16 / 200"
   ]
  },
  {
   "cell_type": "code",
   "execution_count": 16,
   "id": "d7b58653-d31a-47e8-a260-e984b3811214",
   "metadata": {
    "tags": []
   },
   "outputs": [
    {
     "data": {
      "text/plain": [
       "0.08"
      ]
     },
     "execution_count": 16,
     "metadata": {},
     "output_type": "execute_result"
    }
   ],
   "source": [
    "(c3_df.actual == 'Defect').mean()"
   ]
  },
  {
   "cell_type": "markdown",
   "id": "f5051b3b-0b53-4f83-826b-c7a1baf3d4ee",
   "metadata": {},
   "source": [
    "## Establish a positive"
   ]
  },
  {
   "cell_type": "code",
   "execution_count": 17,
   "id": "588072b3-6fd8-463b-8b78-5f16e7ea2ffc",
   "metadata": {
    "tags": []
   },
   "outputs": [
    {
     "data": {
      "text/plain": [
       "actual\n",
       "No Defect    184\n",
       "Defect        16\n",
       "Name: count, dtype: int64"
      ]
     },
     "execution_count": 17,
     "metadata": {},
     "output_type": "execute_result"
    }
   ],
   "source": [
    "c3_df.actual.value_counts()"
   ]
  },
  {
   "cell_type": "markdown",
   "id": "4e7a11d6-3b21-4d62-8641-7f31601573d9",
   "metadata": {},
   "source": [
    "No defects = negative \n",
    "\n",
    "Defects = positive"
   ]
  },
  {
   "cell_type": "markdown",
   "id": "5624b7fc-9517-4793-bff6-f6e556a59e76",
   "metadata": {},
   "source": [
    "## Build Confusion Matrix"
   ]
  },
  {
   "cell_type": "code",
   "execution_count": 27,
   "id": "7510f5f6-2308-47b3-ab1d-c938473f1b7b",
   "metadata": {
    "tags": []
   },
   "outputs": [
    {
     "data": {
      "text/html": [
       "<div>\n",
       "<style scoped>\n",
       "    .dataframe tbody tr th:only-of-type {\n",
       "        vertical-align: middle;\n",
       "    }\n",
       "\n",
       "    .dataframe tbody tr th {\n",
       "        vertical-align: top;\n",
       "    }\n",
       "\n",
       "    .dataframe thead th {\n",
       "        text-align: right;\n",
       "    }\n",
       "</style>\n",
       "<table border=\"1\" class=\"dataframe\">\n",
       "  <thead>\n",
       "    <tr style=\"text-align: right;\">\n",
       "      <th>model1</th>\n",
       "      <th>Defect</th>\n",
       "      <th>No Defect</th>\n",
       "    </tr>\n",
       "    <tr>\n",
       "      <th>actual</th>\n",
       "      <th></th>\n",
       "      <th></th>\n",
       "    </tr>\n",
       "  </thead>\n",
       "  <tbody>\n",
       "    <tr>\n",
       "      <th>Defect</th>\n",
       "      <td>8</td>\n",
       "      <td>8</td>\n",
       "    </tr>\n",
       "    <tr>\n",
       "      <th>No Defect</th>\n",
       "      <td>2</td>\n",
       "      <td>182</td>\n",
       "    </tr>\n",
       "  </tbody>\n",
       "</table>\n",
       "</div>"
      ],
      "text/plain": [
       "model1     Defect  No Defect\n",
       "actual                      \n",
       "Defect          8          8\n",
       "No Defect       2        182"
      ]
     },
     "execution_count": 27,
     "metadata": {},
     "output_type": "execute_result"
    }
   ],
   "source": [
    "counts1 = pd.crosstab(c3_df.actual, c3_df.model1)\n",
    "counts1"
   ]
  },
  {
   "cell_type": "code",
   "execution_count": 34,
   "id": "9191b8db-1fea-4381-9e92-09a7c179c075",
   "metadata": {
    "tags": []
   },
   "outputs": [],
   "source": [
    "tp1 = counts1.iloc[0,0]\n",
    "fn1 = counts1.iloc[0,1]\n",
    "fp1 = counts1.iloc[1,0]\n",
    "tn1 = counts1.iloc[1,1]"
   ]
  },
  {
   "cell_type": "code",
   "execution_count": 36,
   "id": "cfbd8b65-9679-4bc5-8114-e876b00dcf99",
   "metadata": {
    "tags": []
   },
   "outputs": [
    {
     "data": {
      "text/plain": [
       "(8, 8, 2, 182)"
      ]
     },
     "execution_count": 36,
     "metadata": {},
     "output_type": "execute_result"
    }
   ],
   "source": [
    "tp1, fn1, fp1, tn1"
   ]
  },
  {
   "cell_type": "code",
   "execution_count": 83,
   "id": "cf9c7a03-d0d3-435e-a0c5-2f0ac9c4f086",
   "metadata": {
    "tags": []
   },
   "outputs": [
    {
     "data": {
      "text/plain": [
       "0.5"
      ]
     },
     "execution_count": 83,
     "metadata": {},
     "output_type": "execute_result"
    }
   ],
   "source": [
    "# recall\n",
    "tp1 / (tp1 + fn1)"
   ]
  },
  {
   "cell_type": "code",
   "execution_count": 28,
   "id": "82497260-5195-49c4-a9a0-fe61bc880459",
   "metadata": {
    "tags": []
   },
   "outputs": [
    {
     "data": {
      "text/html": [
       "<div>\n",
       "<style scoped>\n",
       "    .dataframe tbody tr th:only-of-type {\n",
       "        vertical-align: middle;\n",
       "    }\n",
       "\n",
       "    .dataframe tbody tr th {\n",
       "        vertical-align: top;\n",
       "    }\n",
       "\n",
       "    .dataframe thead th {\n",
       "        text-align: right;\n",
       "    }\n",
       "</style>\n",
       "<table border=\"1\" class=\"dataframe\">\n",
       "  <thead>\n",
       "    <tr style=\"text-align: right;\">\n",
       "      <th>model2</th>\n",
       "      <th>Defect</th>\n",
       "      <th>No Defect</th>\n",
       "    </tr>\n",
       "    <tr>\n",
       "      <th>actual</th>\n",
       "      <th></th>\n",
       "      <th></th>\n",
       "    </tr>\n",
       "  </thead>\n",
       "  <tbody>\n",
       "    <tr>\n",
       "      <th>Defect</th>\n",
       "      <td>9</td>\n",
       "      <td>7</td>\n",
       "    </tr>\n",
       "    <tr>\n",
       "      <th>No Defect</th>\n",
       "      <td>81</td>\n",
       "      <td>103</td>\n",
       "    </tr>\n",
       "  </tbody>\n",
       "</table>\n",
       "</div>"
      ],
      "text/plain": [
       "model2     Defect  No Defect\n",
       "actual                      \n",
       "Defect          9          7\n",
       "No Defect      81        103"
      ]
     },
     "execution_count": 28,
     "metadata": {},
     "output_type": "execute_result"
    }
   ],
   "source": [
    "counts2 = pd.crosstab(c3_df.actual,  c3_df.model2)\n",
    "counts2"
   ]
  },
  {
   "cell_type": "code",
   "execution_count": 38,
   "id": "268c58a5-3ad3-449a-8174-e50408a30e04",
   "metadata": {
    "tags": []
   },
   "outputs": [],
   "source": [
    "tp2 = counts2.iloc[0,0]\n",
    "fn2 = counts2.iloc[0,1]\n",
    "fp2 = counts2.iloc[1,0]\n",
    "tn2 = counts2.iloc[1,1]"
   ]
  },
  {
   "cell_type": "code",
   "execution_count": 39,
   "id": "a65aa5e9-df53-4d02-8212-194482d1dd67",
   "metadata": {
    "tags": []
   },
   "outputs": [
    {
     "data": {
      "text/plain": [
       "(9, 7, 81, 103)"
      ]
     },
     "execution_count": 39,
     "metadata": {},
     "output_type": "execute_result"
    }
   ],
   "source": [
    "tp2, fn2, fp2, tn2"
   ]
  },
  {
   "cell_type": "code",
   "execution_count": 81,
   "id": "6c5328e5-cf59-4eaa-b0f6-541efd7592ca",
   "metadata": {
    "tags": []
   },
   "outputs": [
    {
     "data": {
      "text/plain": [
       "0.5625"
      ]
     },
     "execution_count": 81,
     "metadata": {},
     "output_type": "execute_result"
    }
   ],
   "source": [
    "tp2 / (tp2 + fn2)"
   ]
  },
  {
   "cell_type": "code",
   "execution_count": 29,
   "id": "2c9a9c86-f52c-4706-958a-9651acdfecec",
   "metadata": {
    "tags": []
   },
   "outputs": [
    {
     "data": {
      "text/html": [
       "<div>\n",
       "<style scoped>\n",
       "    .dataframe tbody tr th:only-of-type {\n",
       "        vertical-align: middle;\n",
       "    }\n",
       "\n",
       "    .dataframe tbody tr th {\n",
       "        vertical-align: top;\n",
       "    }\n",
       "\n",
       "    .dataframe thead th {\n",
       "        text-align: right;\n",
       "    }\n",
       "</style>\n",
       "<table border=\"1\" class=\"dataframe\">\n",
       "  <thead>\n",
       "    <tr style=\"text-align: right;\">\n",
       "      <th>model3</th>\n",
       "      <th>Defect</th>\n",
       "      <th>No Defect</th>\n",
       "    </tr>\n",
       "    <tr>\n",
       "      <th>actual</th>\n",
       "      <th></th>\n",
       "      <th></th>\n",
       "    </tr>\n",
       "  </thead>\n",
       "  <tbody>\n",
       "    <tr>\n",
       "      <th>Defect</th>\n",
       "      <td>13</td>\n",
       "      <td>3</td>\n",
       "    </tr>\n",
       "    <tr>\n",
       "      <th>No Defect</th>\n",
       "      <td>86</td>\n",
       "      <td>98</td>\n",
       "    </tr>\n",
       "  </tbody>\n",
       "</table>\n",
       "</div>"
      ],
      "text/plain": [
       "model3     Defect  No Defect\n",
       "actual                      \n",
       "Defect         13          3\n",
       "No Defect      86         98"
      ]
     },
     "execution_count": 29,
     "metadata": {},
     "output_type": "execute_result"
    }
   ],
   "source": [
    "counts3 = pd.crosstab(c3_df.actual, c3_df.model3)\n",
    "counts3"
   ]
  },
  {
   "cell_type": "code",
   "execution_count": 41,
   "id": "71bcee0b-e63a-477d-bc42-58123886a0ec",
   "metadata": {
    "tags": []
   },
   "outputs": [],
   "source": [
    "tp3 = counts3.iloc[0,0]\n",
    "fn3 = counts3.iloc[0,1]\n",
    "fp3 = counts3.iloc[1,0]\n",
    "tn3 = counts3.iloc[1,1]"
   ]
  },
  {
   "cell_type": "code",
   "execution_count": 43,
   "id": "62ca371b-3ede-46ea-b8b2-44b8b2260977",
   "metadata": {
    "tags": []
   },
   "outputs": [
    {
     "data": {
      "text/plain": [
       "(13, 3, 86, 98)"
      ]
     },
     "execution_count": 43,
     "metadata": {},
     "output_type": "execute_result"
    }
   ],
   "source": [
    "tp3, fn3, fp3, tn3"
   ]
  },
  {
   "cell_type": "code",
   "execution_count": 82,
   "id": "85bd918d-f448-4bc3-9372-b2c45381be50",
   "metadata": {
    "tags": []
   },
   "outputs": [
    {
     "data": {
      "text/plain": [
       "0.8125"
      ]
     },
     "execution_count": 82,
     "metadata": {},
     "output_type": "execute_result"
    }
   ],
   "source": [
    "tp3 / (tp3 + fn3)"
   ]
  },
  {
   "cell_type": "markdown",
   "id": "3bf5b1cc-b418-4281-b7f5-ed197f56f1c7",
   "metadata": {},
   "source": [
    "## ^Recall would be the appropriate evaluation metric. \n",
    "\n",
    "## ^Model 3 is the best fit for this use case."
   ]
  },
  {
   "cell_type": "markdown",
   "id": "617ac2b1-8e97-41e4-9e5b-7dfb43d02c08",
   "metadata": {},
   "source": [
    "## Recently several stories in the local news have come out highlighting customers who received a rubber duck with a defect, and portraying C3 in a bad light. The PR team has decided to launch a program that gives customers with a defective duck a vacation to Hawaii. \n",
    "\n",
    "They need you to predict which ducks will have defects, but tell you the really don't want to accidentally give out a vacation package when the duck really doesn't have a defect. \n",
    "\n",
    "Which evaluation metric would be appropriate here? Which model would be the best fit for this use case?"
   ]
  },
  {
   "cell_type": "code",
   "execution_count": 84,
   "id": "32961474-292c-4c59-822c-568411ce79bc",
   "metadata": {
    "tags": []
   },
   "outputs": [
    {
     "data": {
      "text/plain": [
       "0.8"
      ]
     },
     "execution_count": 84,
     "metadata": {},
     "output_type": "execute_result"
    }
   ],
   "source": [
    "# Precision\n",
    "tp1 / (tp1 + fp1)"
   ]
  },
  {
   "cell_type": "code",
   "execution_count": 86,
   "id": "773a13a1-3e54-42e6-a809-e9f7d5706094",
   "metadata": {
    "tags": []
   },
   "outputs": [
    {
     "data": {
      "text/plain": [
       "0.1"
      ]
     },
     "execution_count": 86,
     "metadata": {},
     "output_type": "execute_result"
    }
   ],
   "source": [
    "tp2 / (tp2 + fp2)"
   ]
  },
  {
   "cell_type": "code",
   "execution_count": 85,
   "id": "6aac63d3-bb4b-45b5-b23a-1dae9695dd7f",
   "metadata": {
    "tags": []
   },
   "outputs": [
    {
     "data": {
      "text/plain": [
       "0.13131313131313133"
      ]
     },
     "execution_count": 85,
     "metadata": {},
     "output_type": "execute_result"
    }
   ],
   "source": [
    "tp3 / (tp3 + fp3)"
   ]
  },
  {
   "cell_type": "markdown",
   "id": "b3605ee8-0474-44c2-92c1-07fbc320f8bd",
   "metadata": {},
   "source": [
    "## ^Precision would be the approprate evolution metric.\n",
    "\n",
    "## ^Model 1 is the best fit for this use case. "
   ]
  },
  {
   "cell_type": "markdown",
   "id": "f8dbd586-2b05-459e-9ea2-a8f333f64e6f",
   "metadata": {},
   "source": [
    "## Given this dataset, use pandas to create a baseline model (i.e. a model that just predicts the most common class) and answer the following questions:\n",
    "\n",
    "In terms of accuracy, how do the various models compare to the baseline model? Are any of the models better than the baseline?\n",
    "\n",
    "Suppose you are working on a team that solely deals with dog pictures. Which of these models would you recommend?\n",
    "\n",
    "Suppose you are working on a team that solely deals with cat pictures. Which of these models would you recommend?"
   ]
  },
  {
   "cell_type": "code",
   "execution_count": 52,
   "id": "d46def93-fbf8-4be6-8b02-a5828ebbd1b8",
   "metadata": {
    "tags": []
   },
   "outputs": [
    {
     "data": {
      "text/html": [
       "<div>\n",
       "<style scoped>\n",
       "    .dataframe tbody tr th:only-of-type {\n",
       "        vertical-align: middle;\n",
       "    }\n",
       "\n",
       "    .dataframe tbody tr th {\n",
       "        vertical-align: top;\n",
       "    }\n",
       "\n",
       "    .dataframe thead th {\n",
       "        text-align: right;\n",
       "    }\n",
       "</style>\n",
       "<table border=\"1\" class=\"dataframe\">\n",
       "  <thead>\n",
       "    <tr style=\"text-align: right;\">\n",
       "      <th></th>\n",
       "      <th>actual</th>\n",
       "      <th>model1</th>\n",
       "      <th>model2</th>\n",
       "      <th>model3</th>\n",
       "      <th>model4</th>\n",
       "    </tr>\n",
       "  </thead>\n",
       "  <tbody>\n",
       "    <tr>\n",
       "      <th>0</th>\n",
       "      <td>cat</td>\n",
       "      <td>cat</td>\n",
       "      <td>dog</td>\n",
       "      <td>cat</td>\n",
       "      <td>dog</td>\n",
       "    </tr>\n",
       "    <tr>\n",
       "      <th>1</th>\n",
       "      <td>dog</td>\n",
       "      <td>dog</td>\n",
       "      <td>cat</td>\n",
       "      <td>cat</td>\n",
       "      <td>dog</td>\n",
       "    </tr>\n",
       "    <tr>\n",
       "      <th>2</th>\n",
       "      <td>dog</td>\n",
       "      <td>cat</td>\n",
       "      <td>cat</td>\n",
       "      <td>cat</td>\n",
       "      <td>dog</td>\n",
       "    </tr>\n",
       "    <tr>\n",
       "      <th>3</th>\n",
       "      <td>dog</td>\n",
       "      <td>dog</td>\n",
       "      <td>dog</td>\n",
       "      <td>cat</td>\n",
       "      <td>dog</td>\n",
       "    </tr>\n",
       "    <tr>\n",
       "      <th>4</th>\n",
       "      <td>cat</td>\n",
       "      <td>cat</td>\n",
       "      <td>cat</td>\n",
       "      <td>dog</td>\n",
       "      <td>dog</td>\n",
       "    </tr>\n",
       "    <tr>\n",
       "      <th>...</th>\n",
       "      <td>...</td>\n",
       "      <td>...</td>\n",
       "      <td>...</td>\n",
       "      <td>...</td>\n",
       "      <td>...</td>\n",
       "    </tr>\n",
       "    <tr>\n",
       "      <th>4995</th>\n",
       "      <td>dog</td>\n",
       "      <td>dog</td>\n",
       "      <td>dog</td>\n",
       "      <td>dog</td>\n",
       "      <td>dog</td>\n",
       "    </tr>\n",
       "    <tr>\n",
       "      <th>4996</th>\n",
       "      <td>dog</td>\n",
       "      <td>dog</td>\n",
       "      <td>cat</td>\n",
       "      <td>cat</td>\n",
       "      <td>dog</td>\n",
       "    </tr>\n",
       "    <tr>\n",
       "      <th>4997</th>\n",
       "      <td>dog</td>\n",
       "      <td>cat</td>\n",
       "      <td>cat</td>\n",
       "      <td>dog</td>\n",
       "      <td>dog</td>\n",
       "    </tr>\n",
       "    <tr>\n",
       "      <th>4998</th>\n",
       "      <td>cat</td>\n",
       "      <td>cat</td>\n",
       "      <td>cat</td>\n",
       "      <td>cat</td>\n",
       "      <td>dog</td>\n",
       "    </tr>\n",
       "    <tr>\n",
       "      <th>4999</th>\n",
       "      <td>dog</td>\n",
       "      <td>dog</td>\n",
       "      <td>dog</td>\n",
       "      <td>dog</td>\n",
       "      <td>dog</td>\n",
       "    </tr>\n",
       "  </tbody>\n",
       "</table>\n",
       "<p>5000 rows × 5 columns</p>\n",
       "</div>"
      ],
      "text/plain": [
       "     actual model1 model2 model3 model4\n",
       "0       cat    cat    dog    cat    dog\n",
       "1       dog    dog    cat    cat    dog\n",
       "2       dog    cat    cat    cat    dog\n",
       "3       dog    dog    dog    cat    dog\n",
       "4       cat    cat    cat    dog    dog\n",
       "...     ...    ...    ...    ...    ...\n",
       "4995    dog    dog    dog    dog    dog\n",
       "4996    dog    dog    cat    cat    dog\n",
       "4997    dog    cat    cat    dog    dog\n",
       "4998    cat    cat    cat    cat    dog\n",
       "4999    dog    dog    dog    dog    dog\n",
       "\n",
       "[5000 rows x 5 columns]"
      ]
     },
     "execution_count": 52,
     "metadata": {},
     "output_type": "execute_result"
    }
   ],
   "source": [
    "paws_df = pd.read_csv('gives_you_paws.csv')\n",
    "paws_df"
   ]
  },
  {
   "cell_type": "code",
   "execution_count": 53,
   "id": "028bc5d5-55fa-43b6-9280-d97cb8ff93d3",
   "metadata": {
    "tags": []
   },
   "outputs": [
    {
     "data": {
      "text/plain": [
       "(5000, 5)"
      ]
     },
     "execution_count": 53,
     "metadata": {},
     "output_type": "execute_result"
    }
   ],
   "source": [
    "paws_df.shape"
   ]
  },
  {
   "cell_type": "code",
   "execution_count": 54,
   "id": "beeba292-7bbb-4a66-945c-2a4fe9a25913",
   "metadata": {
    "tags": []
   },
   "outputs": [
    {
     "data": {
      "text/plain": [
       "<bound method DataFrame.info of      actual model1 model2 model3 model4\n",
       "0       cat    cat    dog    cat    dog\n",
       "1       dog    dog    cat    cat    dog\n",
       "2       dog    cat    cat    cat    dog\n",
       "3       dog    dog    dog    cat    dog\n",
       "4       cat    cat    cat    dog    dog\n",
       "...     ...    ...    ...    ...    ...\n",
       "4995    dog    dog    dog    dog    dog\n",
       "4996    dog    dog    cat    cat    dog\n",
       "4997    dog    cat    cat    dog    dog\n",
       "4998    cat    cat    cat    cat    dog\n",
       "4999    dog    dog    dog    dog    dog\n",
       "\n",
       "[5000 rows x 5 columns]>"
      ]
     },
     "execution_count": 54,
     "metadata": {},
     "output_type": "execute_result"
    }
   ],
   "source": [
    "paws_df.info"
   ]
  },
  {
   "cell_type": "code",
   "execution_count": 91,
   "id": "1772eb01-1a15-4591-9a04-40e25011122e",
   "metadata": {
    "tags": []
   },
   "outputs": [
    {
     "data": {
      "text/plain": [
       "Index(['actual', 'model1', 'model2', 'model3', 'model4',\n",
       "       'baseline_prediction'],\n",
       "      dtype='object')"
      ]
     },
     "execution_count": 91,
     "metadata": {},
     "output_type": "execute_result"
    }
   ],
   "source": [
    "paws_df.columns"
   ]
  },
  {
   "cell_type": "code",
   "execution_count": 92,
   "id": "1f530951-df5b-4e85-b98c-e4c6a88ecb45",
   "metadata": {
    "tags": []
   },
   "outputs": [
    {
     "data": {
      "text/plain": [
       "0    dog\n",
       "Name: actual, dtype: object"
      ]
     },
     "execution_count": 92,
     "metadata": {},
     "output_type": "execute_result"
    }
   ],
   "source": [
    "paws_df.actual.mode()"
   ]
  },
  {
   "cell_type": "code",
   "execution_count": 93,
   "id": "6456d244-6379-47d9-8cec-27fa071e2bc4",
   "metadata": {
    "tags": []
   },
   "outputs": [
    {
     "data": {
      "text/plain": [
       "0.6508"
      ]
     },
     "execution_count": 93,
     "metadata": {},
     "output_type": "execute_result"
    }
   ],
   "source": [
    "#turning my counts into percent\n",
    "# paws_df.actual.value_counts()\n",
    "paws_df.actual.value_counts(normalize=True)[0]\n"
   ]
  },
  {
   "cell_type": "code",
   "execution_count": 95,
   "id": "1a188945-b2e9-462c-b2f9-f45ad13bdece",
   "metadata": {
    "tags": []
   },
   "outputs": [
    {
     "data": {
      "text/plain": [
       "0.6508"
      ]
     },
     "execution_count": 95,
     "metadata": {},
     "output_type": "execute_result"
    }
   ],
   "source": [
    "(paws_df.actual == 'dog').mean()"
   ]
  },
  {
   "cell_type": "markdown",
   "id": "6fb47fe1-b4bd-4b6b-8e99-c77dc23af009",
   "metadata": {},
   "source": [
    "## In terms of accuracy, how do the various models compare to the baseline model? Are any of the models better than the baseline?"
   ]
  },
  {
   "cell_type": "code",
   "execution_count": 78,
   "id": "13463370-9e47-45e4-97b2-e53ad574df72",
   "metadata": {
    "tags": []
   },
   "outputs": [
    {
     "data": {
      "text/plain": [
       "actual\n",
       "dog    3254\n",
       "cat    1746\n",
       "Name: count, dtype: int64"
      ]
     },
     "execution_count": 78,
     "metadata": {},
     "output_type": "execute_result"
    }
   ],
   "source": [
    "# getting the values to solve for the baseline\n",
    "paws_df.actual.value_counts()"
   ]
  },
  {
   "cell_type": "markdown",
   "id": "e7b84d52-09af-48de-ad40-ff2d22b9222f",
   "metadata": {},
   "source": [
    "dog = positive\n",
    "cat = negative"
   ]
  },
  {
   "cell_type": "code",
   "execution_count": 79,
   "id": "3ebf7cd6-74e3-4f93-a11e-9fa82cdd843d",
   "metadata": {
    "tags": []
   },
   "outputs": [
    {
     "data": {
      "text/plain": [
       "0.6508"
      ]
     },
     "execution_count": 79,
     "metadata": {},
     "output_type": "execute_result"
    }
   ],
   "source": [
    "# Baseline\n",
    "3254/5000"
   ]
  },
  {
   "cell_type": "markdown",
   "id": "d7044e14-584d-446f-b2d0-307cf43a9dd5",
   "metadata": {},
   "source": [
    "## models"
   ]
  },
  {
   "cell_type": "code",
   "execution_count": 59,
   "id": "3f79d165-d6ec-4752-a3b4-cd4551438c26",
   "metadata": {
    "tags": []
   },
   "outputs": [
    {
     "data": {
      "text/html": [
       "<div>\n",
       "<style scoped>\n",
       "    .dataframe tbody tr th:only-of-type {\n",
       "        vertical-align: middle;\n",
       "    }\n",
       "\n",
       "    .dataframe tbody tr th {\n",
       "        vertical-align: top;\n",
       "    }\n",
       "\n",
       "    .dataframe thead th {\n",
       "        text-align: right;\n",
       "    }\n",
       "</style>\n",
       "<table border=\"1\" class=\"dataframe\">\n",
       "  <thead>\n",
       "    <tr style=\"text-align: right;\">\n",
       "      <th>model1</th>\n",
       "      <th>cat</th>\n",
       "      <th>dog</th>\n",
       "    </tr>\n",
       "    <tr>\n",
       "      <th>actual</th>\n",
       "      <th></th>\n",
       "      <th></th>\n",
       "    </tr>\n",
       "  </thead>\n",
       "  <tbody>\n",
       "    <tr>\n",
       "      <th>cat</th>\n",
       "      <td>1423</td>\n",
       "      <td>323</td>\n",
       "    </tr>\n",
       "    <tr>\n",
       "      <th>dog</th>\n",
       "      <td>640</td>\n",
       "      <td>2614</td>\n",
       "    </tr>\n",
       "  </tbody>\n",
       "</table>\n",
       "</div>"
      ],
      "text/plain": [
       "model1   cat   dog\n",
       "actual            \n",
       "cat     1423   323\n",
       "dog      640  2614"
      ]
     },
     "execution_count": 59,
     "metadata": {},
     "output_type": "execute_result"
    }
   ],
   "source": [
    "count1 = pd.crosstab(paws_df.actual, paws_df.model1)\n",
    "count1"
   ]
  },
  {
   "cell_type": "code",
   "execution_count": 107,
   "id": "c3f44c51-f2cd-4411-a302-aac9a7cae8c8",
   "metadata": {
    "tags": []
   },
   "outputs": [],
   "source": [
    "tp_1 = count1.iloc[1,1]\n",
    "fn_1 = count1.iloc[0,1]\n",
    "fp_1 = count1.iloc[1,0]\n",
    "tn_1 = count1.iloc[0,0]"
   ]
  },
  {
   "cell_type": "code",
   "execution_count": 108,
   "id": "78fdc6d4-4a61-4bb2-a49e-109dfa881f18",
   "metadata": {
    "tags": []
   },
   "outputs": [
    {
     "data": {
      "text/plain": [
       "(2614, 323, 640, 1423)"
      ]
     },
     "execution_count": 108,
     "metadata": {},
     "output_type": "execute_result"
    }
   ],
   "source": [
    "tp_1, fn_1, fp_1, tn_1"
   ]
  },
  {
   "cell_type": "code",
   "execution_count": 119,
   "id": "85a0fc04-cf3a-4a12-b123-8c4d063bc543",
   "metadata": {
    "tags": []
   },
   "outputs": [
    {
     "data": {
      "text/plain": [
       "0.8074"
      ]
     },
     "execution_count": 119,
     "metadata": {},
     "output_type": "execute_result"
    }
   ],
   "source": [
    "# Accuracy model\n",
    "\n",
    "(tp_1 + tn_1 ) / (tp_1 + fp_1 + tn_1 + fn_1) \n"
   ]
  },
  {
   "cell_type": "code",
   "execution_count": 97,
   "id": "1a29b799-455b-4fb6-a714-6534d15b58fc",
   "metadata": {
    "tags": []
   },
   "outputs": [
    {
     "data": {
      "text/plain": [
       "0.8074"
      ]
     },
     "execution_count": 97,
     "metadata": {},
     "output_type": "execute_result"
    }
   ],
   "source": [
    "(paws_df.actual == paws_df.model1).mean()"
   ]
  },
  {
   "cell_type": "code",
   "execution_count": 60,
   "id": "d3a6d465-a1f1-4206-bac2-3085969cc1b9",
   "metadata": {
    "tags": []
   },
   "outputs": [
    {
     "data": {
      "text/html": [
       "<div>\n",
       "<style scoped>\n",
       "    .dataframe tbody tr th:only-of-type {\n",
       "        vertical-align: middle;\n",
       "    }\n",
       "\n",
       "    .dataframe tbody tr th {\n",
       "        vertical-align: top;\n",
       "    }\n",
       "\n",
       "    .dataframe thead th {\n",
       "        text-align: right;\n",
       "    }\n",
       "</style>\n",
       "<table border=\"1\" class=\"dataframe\">\n",
       "  <thead>\n",
       "    <tr style=\"text-align: right;\">\n",
       "      <th>model2</th>\n",
       "      <th>cat</th>\n",
       "      <th>dog</th>\n",
       "    </tr>\n",
       "    <tr>\n",
       "      <th>actual</th>\n",
       "      <th></th>\n",
       "      <th></th>\n",
       "    </tr>\n",
       "  </thead>\n",
       "  <tbody>\n",
       "    <tr>\n",
       "      <th>cat</th>\n",
       "      <td>1555</td>\n",
       "      <td>191</td>\n",
       "    </tr>\n",
       "    <tr>\n",
       "      <th>dog</th>\n",
       "      <td>1657</td>\n",
       "      <td>1597</td>\n",
       "    </tr>\n",
       "  </tbody>\n",
       "</table>\n",
       "</div>"
      ],
      "text/plain": [
       "model2   cat   dog\n",
       "actual            \n",
       "cat     1555   191\n",
       "dog     1657  1597"
      ]
     },
     "execution_count": 60,
     "metadata": {},
     "output_type": "execute_result"
    }
   ],
   "source": [
    "count2 = pd.crosstab(paws_df.actual, paws_df.model2)\n",
    "count2"
   ]
  },
  {
   "cell_type": "code",
   "execution_count": 111,
   "id": "1e41ce4c-c176-4c2a-9520-8f46f73012cf",
   "metadata": {
    "tags": []
   },
   "outputs": [
    {
     "data": {
      "text/plain": [
       "0.6304"
      ]
     },
     "execution_count": 111,
     "metadata": {},
     "output_type": "execute_result"
    }
   ],
   "source": [
    "(paws_df.actual == paws_df.model2).mean()"
   ]
  },
  {
   "cell_type": "code",
   "execution_count": 115,
   "id": "2b65ae49-8aef-4b45-b49c-847977210db4",
   "metadata": {
    "tags": []
   },
   "outputs": [],
   "source": [
    "tp_2 = count2.iloc[1,1]\n",
    "fn_2 = count2.iloc[1,0]\n",
    "fp_2 = count2.iloc[0,1]\n",
    "tn_2 = count2.iloc[0,0]"
   ]
  },
  {
   "cell_type": "code",
   "execution_count": 116,
   "id": "19c7c6ef-56e0-4c88-954c-316e4a9e0cb2",
   "metadata": {
    "tags": []
   },
   "outputs": [
    {
     "data": {
      "text/plain": [
       "(1597, 1657, 191, 1555)"
      ]
     },
     "execution_count": 116,
     "metadata": {},
     "output_type": "execute_result"
    }
   ],
   "source": [
    "tp_2, fn_2, fp_2, tn_2"
   ]
  },
  {
   "cell_type": "code",
   "execution_count": 120,
   "id": "846763ce-0b1e-4b6b-a0a9-2b4dd61ddeaa",
   "metadata": {
    "tags": []
   },
   "outputs": [
    {
     "data": {
      "text/plain": [
       "0.6304"
      ]
     },
     "execution_count": 120,
     "metadata": {},
     "output_type": "execute_result"
    }
   ],
   "source": [
    "# Accuracy model\n",
    "\n",
    "(tp_2 + tn_2 ) / (tp_2 + fp_2 + tn_2 + fn_2) "
   ]
  },
  {
   "cell_type": "code",
   "execution_count": 61,
   "id": "883c0720-b14c-4f3d-92e3-50d51cf574e2",
   "metadata": {
    "tags": []
   },
   "outputs": [
    {
     "data": {
      "text/html": [
       "<div>\n",
       "<style scoped>\n",
       "    .dataframe tbody tr th:only-of-type {\n",
       "        vertical-align: middle;\n",
       "    }\n",
       "\n",
       "    .dataframe tbody tr th {\n",
       "        vertical-align: top;\n",
       "    }\n",
       "\n",
       "    .dataframe thead th {\n",
       "        text-align: right;\n",
       "    }\n",
       "</style>\n",
       "<table border=\"1\" class=\"dataframe\">\n",
       "  <thead>\n",
       "    <tr style=\"text-align: right;\">\n",
       "      <th>model3</th>\n",
       "      <th>cat</th>\n",
       "      <th>dog</th>\n",
       "    </tr>\n",
       "    <tr>\n",
       "      <th>actual</th>\n",
       "      <th></th>\n",
       "      <th></th>\n",
       "    </tr>\n",
       "  </thead>\n",
       "  <tbody>\n",
       "    <tr>\n",
       "      <th>cat</th>\n",
       "      <td>893</td>\n",
       "      <td>853</td>\n",
       "    </tr>\n",
       "    <tr>\n",
       "      <th>dog</th>\n",
       "      <td>1599</td>\n",
       "      <td>1655</td>\n",
       "    </tr>\n",
       "  </tbody>\n",
       "</table>\n",
       "</div>"
      ],
      "text/plain": [
       "model3   cat   dog\n",
       "actual            \n",
       "cat      893   853\n",
       "dog     1599  1655"
      ]
     },
     "execution_count": 61,
     "metadata": {},
     "output_type": "execute_result"
    }
   ],
   "source": [
    "count3 = pd.crosstab(paws_df.actual, paws_df.model3)\n",
    "count3"
   ]
  },
  {
   "cell_type": "code",
   "execution_count": 121,
   "id": "91bcc48b-a8f4-4f83-8c77-c25117f5232e",
   "metadata": {
    "tags": []
   },
   "outputs": [],
   "source": [
    "tp_3 = count3.iloc[1,1]\n",
    "fn_3 = count3.iloc[1,0]\n",
    "fp_3 = count3.iloc[0,1]\n",
    "tn_3 = count3.iloc[0,0]"
   ]
  },
  {
   "cell_type": "code",
   "execution_count": 122,
   "id": "e84de044-e8db-45ac-b584-685444c0ef66",
   "metadata": {
    "tags": []
   },
   "outputs": [
    {
     "data": {
      "text/plain": [
       "(1655, 1599, 853, 893)"
      ]
     },
     "execution_count": 122,
     "metadata": {},
     "output_type": "execute_result"
    }
   ],
   "source": [
    "tp_3, fn_3, fp_3, tn_3"
   ]
  },
  {
   "cell_type": "code",
   "execution_count": 123,
   "id": "6c99f9ee-c475-4346-af33-7d8eba1f5415",
   "metadata": {
    "tags": []
   },
   "outputs": [
    {
     "data": {
      "text/plain": [
       "0.5096"
      ]
     },
     "execution_count": 123,
     "metadata": {},
     "output_type": "execute_result"
    }
   ],
   "source": [
    "# Accuracy model\n",
    "\n",
    "(tp_3 + tn_3 ) / (tp_3 + fp_3 + tn_3 + fn_3) "
   ]
  },
  {
   "cell_type": "code",
   "execution_count": 124,
   "id": "ad75f115-2755-462c-a8cc-3fefe6dab451",
   "metadata": {
    "tags": []
   },
   "outputs": [
    {
     "data": {
      "text/plain": [
       "0.5096"
      ]
     },
     "execution_count": 124,
     "metadata": {},
     "output_type": "execute_result"
    }
   ],
   "source": [
    "(paws_df.actual == paws_df.model3).mean()"
   ]
  },
  {
   "cell_type": "code",
   "execution_count": 62,
   "id": "9a161c1c-638a-4f0b-b672-373de8d86920",
   "metadata": {
    "tags": []
   },
   "outputs": [
    {
     "data": {
      "text/html": [
       "<div>\n",
       "<style scoped>\n",
       "    .dataframe tbody tr th:only-of-type {\n",
       "        vertical-align: middle;\n",
       "    }\n",
       "\n",
       "    .dataframe tbody tr th {\n",
       "        vertical-align: top;\n",
       "    }\n",
       "\n",
       "    .dataframe thead th {\n",
       "        text-align: right;\n",
       "    }\n",
       "</style>\n",
       "<table border=\"1\" class=\"dataframe\">\n",
       "  <thead>\n",
       "    <tr style=\"text-align: right;\">\n",
       "      <th>model4</th>\n",
       "      <th>cat</th>\n",
       "      <th>dog</th>\n",
       "    </tr>\n",
       "    <tr>\n",
       "      <th>actual</th>\n",
       "      <th></th>\n",
       "      <th></th>\n",
       "    </tr>\n",
       "  </thead>\n",
       "  <tbody>\n",
       "    <tr>\n",
       "      <th>cat</th>\n",
       "      <td>603</td>\n",
       "      <td>1143</td>\n",
       "    </tr>\n",
       "    <tr>\n",
       "      <th>dog</th>\n",
       "      <td>144</td>\n",
       "      <td>3110</td>\n",
       "    </tr>\n",
       "  </tbody>\n",
       "</table>\n",
       "</div>"
      ],
      "text/plain": [
       "model4  cat   dog\n",
       "actual           \n",
       "cat     603  1143\n",
       "dog     144  3110"
      ]
     },
     "execution_count": 62,
     "metadata": {},
     "output_type": "execute_result"
    }
   ],
   "source": [
    "count4 = pd.crosstab(paws_df.actual, paws_df.model4)\n",
    "count4"
   ]
  },
  {
   "cell_type": "code",
   "execution_count": 125,
   "id": "da44e9f6-4fea-4179-abe8-5bb12778c745",
   "metadata": {
    "tags": []
   },
   "outputs": [],
   "source": [
    "tp_4 = count4.iloc[1,1]\n",
    "fn_4 = count4.iloc[1,0]\n",
    "fp_4 = count4.iloc[0,1]\n",
    "tn_4 = count4.iloc[0,0]"
   ]
  },
  {
   "cell_type": "code",
   "execution_count": 126,
   "id": "370e7dd1-2478-478e-b6be-d44b6d0abdda",
   "metadata": {
    "tags": []
   },
   "outputs": [
    {
     "data": {
      "text/plain": [
       "(3110, 144, 1143, 603)"
      ]
     },
     "execution_count": 126,
     "metadata": {},
     "output_type": "execute_result"
    }
   ],
   "source": [
    "tp_4, fn_4, fp_4, tn_4"
   ]
  },
  {
   "cell_type": "code",
   "execution_count": 128,
   "id": "5c7e02c6-572c-4317-b550-e8ba08363a2e",
   "metadata": {
    "tags": []
   },
   "outputs": [
    {
     "data": {
      "text/plain": [
       "0.7426"
      ]
     },
     "execution_count": 128,
     "metadata": {},
     "output_type": "execute_result"
    }
   ],
   "source": [
    "# Accuracy model\n",
    "\n",
    "(tp_4 + tn_4 ) / (tp_4 + fp_4 + tn_4 + fn_4) "
   ]
  },
  {
   "cell_type": "code",
   "execution_count": 129,
   "id": "3d018aa1-d264-4187-8936-f81f3c96539e",
   "metadata": {
    "tags": []
   },
   "outputs": [
    {
     "data": {
      "text/plain": [
       "0.7426"
      ]
     },
     "execution_count": 129,
     "metadata": {},
     "output_type": "execute_result"
    }
   ],
   "source": [
    "(paws_df.actual == paws_df.model4).mean()"
   ]
  },
  {
   "cell_type": "markdown",
   "id": "317be1b2-12a9-4283-ada1-080108da4bf0",
   "metadata": {},
   "source": [
    "## ^^Models 1 and 4 are better than the baseline."
   ]
  },
  {
   "cell_type": "markdown",
   "id": "21ea59d5-c954-491a-95e8-3de448187023",
   "metadata": {},
   "source": [
    "Suppose you are working on a team that solely deals with dog pictures. Which of these models would you recommend?"
   ]
  },
  {
   "cell_type": "markdown",
   "id": "19dec856-fe7a-44a2-9345-ae354d8aab9f",
   "metadata": {},
   "source": [
    "positive = 'dog'\n",
    "\n",
    "recall = minimize our false negatives\n",
    "\n",
    "precision = minimize our false positives\n",
    "\n",
    "false negatives = predicting a cat, when its actually a dog\n",
    "\n",
    "false positives = predicting a dog, when its actually a cat"
   ]
  },
  {
   "cell_type": "markdown",
   "id": "3bca58ea-5706-4f3f-93b0-234d82c0b925",
   "metadata": {},
   "source": [
    "       I will choose precision to minimize false positives, cause i dont want cat pictures"
   ]
  },
  {
   "cell_type": "code",
   "execution_count": 130,
   "id": "c6429a43-e376-46dd-a301-c3ba1e2af30b",
   "metadata": {
    "tags": []
   },
   "outputs": [
    {
     "data": {
      "text/html": [
       "<div>\n",
       "<style scoped>\n",
       "    .dataframe tbody tr th:only-of-type {\n",
       "        vertical-align: middle;\n",
       "    }\n",
       "\n",
       "    .dataframe tbody tr th {\n",
       "        vertical-align: top;\n",
       "    }\n",
       "\n",
       "    .dataframe thead th {\n",
       "        text-align: right;\n",
       "    }\n",
       "</style>\n",
       "<table border=\"1\" class=\"dataframe\">\n",
       "  <thead>\n",
       "    <tr style=\"text-align: right;\">\n",
       "      <th></th>\n",
       "      <th>actual</th>\n",
       "      <th>model1</th>\n",
       "      <th>model2</th>\n",
       "      <th>model3</th>\n",
       "      <th>model4</th>\n",
       "      <th>baseline_prediction</th>\n",
       "    </tr>\n",
       "  </thead>\n",
       "  <tbody>\n",
       "    <tr>\n",
       "      <th>1</th>\n",
       "      <td>dog</td>\n",
       "      <td>dog</td>\n",
       "      <td>cat</td>\n",
       "      <td>cat</td>\n",
       "      <td>dog</td>\n",
       "      <td>dog</td>\n",
       "    </tr>\n",
       "    <tr>\n",
       "      <th>3</th>\n",
       "      <td>dog</td>\n",
       "      <td>dog</td>\n",
       "      <td>dog</td>\n",
       "      <td>cat</td>\n",
       "      <td>dog</td>\n",
       "      <td>dog</td>\n",
       "    </tr>\n",
       "    <tr>\n",
       "      <th>5</th>\n",
       "      <td>dog</td>\n",
       "      <td>dog</td>\n",
       "      <td>dog</td>\n",
       "      <td>dog</td>\n",
       "      <td>dog</td>\n",
       "      <td>dog</td>\n",
       "    </tr>\n",
       "    <tr>\n",
       "      <th>7</th>\n",
       "      <td>cat</td>\n",
       "      <td>dog</td>\n",
       "      <td>cat</td>\n",
       "      <td>cat</td>\n",
       "      <td>dog</td>\n",
       "      <td>dog</td>\n",
       "    </tr>\n",
       "    <tr>\n",
       "      <th>8</th>\n",
       "      <td>dog</td>\n",
       "      <td>dog</td>\n",
       "      <td>cat</td>\n",
       "      <td>dog</td>\n",
       "      <td>dog</td>\n",
       "      <td>dog</td>\n",
       "    </tr>\n",
       "  </tbody>\n",
       "</table>\n",
       "</div>"
      ],
      "text/plain": [
       "  actual model1 model2 model3 model4 baseline_prediction\n",
       "1    dog    dog    cat    cat    dog                 dog\n",
       "3    dog    dog    dog    cat    dog                 dog\n",
       "5    dog    dog    dog    dog    dog                 dog\n",
       "7    cat    dog    cat    cat    dog                 dog\n",
       "8    dog    dog    cat    dog    dog                 dog"
      ]
     },
     "execution_count": 130,
     "metadata": {},
     "output_type": "execute_result"
    }
   ],
   "source": [
    "pos_prediction = paws_df[paws_df.model1 == 'dog']\n",
    "pos_prediction.head()"
   ]
  },
  {
   "cell_type": "code",
   "execution_count": 131,
   "id": "c31b6f1f-ac88-40ff-950a-a9ecbb5ef9d5",
   "metadata": {
    "tags": []
   },
   "outputs": [
    {
     "data": {
      "text/plain": [
       "0.8900238338440586"
      ]
     },
     "execution_count": 131,
     "metadata": {},
     "output_type": "execute_result"
    }
   ],
   "source": [
    "(pos_prediction.actual == pos_prediction.model1).mean()"
   ]
  },
  {
   "cell_type": "code",
   "execution_count": 133,
   "id": "faf4a89b-643f-4ede-aba0-070015c8f223",
   "metadata": {
    "tags": []
   },
   "outputs": [
    {
     "name": "stdout",
     "output_type": "stream",
     "text": [
      "for model1 the precision is 0.89\n",
      "for model2 the precision is 0.89\n",
      "for model3 the precision is 0.66\n",
      "for model4 the precision is 0.73\n",
      "for baseline_prediction the precision is 0.65\n"
     ]
    }
   ],
   "source": [
    "for col in paws_df.columns[1:]:\n",
    "    # print(col)\n",
    "    pos_prediction = paws_df[paws_df[col] == 'dog']\n",
    "    prec = (pos_prediction.actual == pos_prediction[col]).mean()\n",
    "    \n",
    "    print(f'for {col} the precision is {round(prec,2)}')"
   ]
  },
  {
   "cell_type": "markdown",
   "id": "9f0063d7-c18d-4d85-941f-bd2d8c92b68f",
   "metadata": {},
   "source": [
    "## ^Model 1 or 2 for predicting dog pictures"
   ]
  },
  {
   "cell_type": "markdown",
   "id": "9a3ccb6e-a25e-4b34-927a-c46e004fb7d1",
   "metadata": {},
   "source": [
    "Suppose you are working on a team that solely deals with cat pictures. Which of these models would you recommend?"
   ]
  },
  {
   "cell_type": "markdown",
   "id": "692547cd-8086-49e7-90e5-7bf200908b21",
   "metadata": {},
   "source": [
    "positive = 'cat'\n",
    "\n",
    "recall = minimize our false negatives\n",
    "\n",
    "precision = minimize our false positives\n",
    "\n",
    "false negatives = predicting a dog, when its actually a cat\n",
    "\n",
    "false positives = predicting a cat, when its actually a dog"
   ]
  },
  {
   "cell_type": "markdown",
   "id": "d7ec1b03-4017-44cd-baa0-07c2399b3bc2",
   "metadata": {},
   "source": [
    "    I will choose precision to minimize false positives, cause i dont want dog pictures"
   ]
  },
  {
   "cell_type": "code",
   "execution_count": 135,
   "id": "a3189b5c-896d-43ac-9649-dd9debf3543c",
   "metadata": {
    "tags": []
   },
   "outputs": [
    {
     "name": "stdout",
     "output_type": "stream",
     "text": [
      "for model1 the precision is 0.69\n",
      "for model2 the precision is 0.48\n",
      "for model3 the precision is 0.36\n",
      "for model4 the precision is 0.81\n",
      "for baseline_prediction the precision is nan\n"
     ]
    }
   ],
   "source": [
    "for col in paws_df.columns[1:]:\n",
    "    # print(col)\n",
    "    pos_prediction = paws_df[paws_df[col] == 'cat']\n",
    "    prec = (pos_prediction.actual == pos_prediction[col]).mean()\n",
    "    \n",
    "    print(f'for {col} the precision is {round(prec,2)}')"
   ]
  },
  {
   "cell_type": "markdown",
   "id": "8bd5f27e-e181-4fcb-985e-5dc77a5eca71",
   "metadata": {},
   "source": [
    "## ^Model 1 would be best fpor predicting cat pictures "
   ]
  },
  {
   "cell_type": "markdown",
   "id": "deb1152c-1c31-496a-b808-dfa7916a00a8",
   "metadata": {
    "tags": []
   },
   "source": [
    "## Follow the links below to read the documentation about each function, then apply those functions to the data from the previous problem.\n",
    "\n",
    "sklearn.metrics.accuracy_score\n",
    "\n",
    "sklearn.metrics.precision_score\n",
    "\n",
    "sklearn.metrics.recall_score\n",
    "\n",
    "sklearn.metrics.classification_report"
   ]
  },
  {
   "cell_type": "code",
   "execution_count": 137,
   "id": "02f5baf7-9681-4e16-aa5a-9753acf0763b",
   "metadata": {
    "tags": []
   },
   "outputs": [],
   "source": [
    "from sklearn.metrics import accuracy_score, precision_score, recall_score, classification_report"
   ]
  },
  {
   "cell_type": "code",
   "execution_count": 138,
   "id": "6d63bb31-16eb-40eb-9888-03b667d3199b",
   "metadata": {
    "tags": []
   },
   "outputs": [
    {
     "data": {
      "text/html": [
       "<div>\n",
       "<style scoped>\n",
       "    .dataframe tbody tr th:only-of-type {\n",
       "        vertical-align: middle;\n",
       "    }\n",
       "\n",
       "    .dataframe tbody tr th {\n",
       "        vertical-align: top;\n",
       "    }\n",
       "\n",
       "    .dataframe thead th {\n",
       "        text-align: right;\n",
       "    }\n",
       "</style>\n",
       "<table border=\"1\" class=\"dataframe\">\n",
       "  <thead>\n",
       "    <tr style=\"text-align: right;\">\n",
       "      <th></th>\n",
       "      <th>actual</th>\n",
       "      <th>model1</th>\n",
       "      <th>model2</th>\n",
       "      <th>model3</th>\n",
       "      <th>model4</th>\n",
       "      <th>baseline_prediction</th>\n",
       "    </tr>\n",
       "  </thead>\n",
       "  <tbody>\n",
       "    <tr>\n",
       "      <th>0</th>\n",
       "      <td>cat</td>\n",
       "      <td>cat</td>\n",
       "      <td>dog</td>\n",
       "      <td>cat</td>\n",
       "      <td>dog</td>\n",
       "      <td>dog</td>\n",
       "    </tr>\n",
       "    <tr>\n",
       "      <th>1</th>\n",
       "      <td>dog</td>\n",
       "      <td>dog</td>\n",
       "      <td>cat</td>\n",
       "      <td>cat</td>\n",
       "      <td>dog</td>\n",
       "      <td>dog</td>\n",
       "    </tr>\n",
       "    <tr>\n",
       "      <th>2</th>\n",
       "      <td>dog</td>\n",
       "      <td>cat</td>\n",
       "      <td>cat</td>\n",
       "      <td>cat</td>\n",
       "      <td>dog</td>\n",
       "      <td>dog</td>\n",
       "    </tr>\n",
       "    <tr>\n",
       "      <th>3</th>\n",
       "      <td>dog</td>\n",
       "      <td>dog</td>\n",
       "      <td>dog</td>\n",
       "      <td>cat</td>\n",
       "      <td>dog</td>\n",
       "      <td>dog</td>\n",
       "    </tr>\n",
       "    <tr>\n",
       "      <th>4</th>\n",
       "      <td>cat</td>\n",
       "      <td>cat</td>\n",
       "      <td>cat</td>\n",
       "      <td>dog</td>\n",
       "      <td>dog</td>\n",
       "      <td>dog</td>\n",
       "    </tr>\n",
       "  </tbody>\n",
       "</table>\n",
       "</div>"
      ],
      "text/plain": [
       "  actual model1 model2 model3 model4 baseline_prediction\n",
       "0    cat    cat    dog    cat    dog                 dog\n",
       "1    dog    dog    cat    cat    dog                 dog\n",
       "2    dog    cat    cat    cat    dog                 dog\n",
       "3    dog    dog    dog    cat    dog                 dog\n",
       "4    cat    cat    cat    dog    dog                 dog"
      ]
     },
     "execution_count": 138,
     "metadata": {},
     "output_type": "execute_result"
    }
   ],
   "source": [
    "paws_df.head()"
   ]
  },
  {
   "cell_type": "code",
   "execution_count": 139,
   "id": "b8ba8f2e-df4d-41de-9820-56e0a8e059fb",
   "metadata": {
    "tags": []
   },
   "outputs": [
    {
     "data": {
      "text/plain": [
       "0.8074"
      ]
     },
     "execution_count": 139,
     "metadata": {},
     "output_type": "execute_result"
    }
   ],
   "source": [
    "accuracy_score(paws_df.actual, paws_df.model1)"
   ]
  },
  {
   "cell_type": "code",
   "execution_count": 141,
   "id": "0d8f0ced-bb57-4634-9eea-d35b10b65f00",
   "metadata": {
    "tags": []
   },
   "outputs": [
    {
     "data": {
      "text/plain": [
       "0.6897721764420747"
      ]
     },
     "execution_count": 141,
     "metadata": {},
     "output_type": "execute_result"
    }
   ],
   "source": [
    "precision_score(paws_df.actual, paws_df.model1, pos_label='cat')"
   ]
  },
  {
   "cell_type": "code",
   "execution_count": 142,
   "id": "5c5f5132-9683-4975-a969-007e48c91832",
   "metadata": {
    "tags": []
   },
   "outputs": [
    {
     "data": {
      "text/plain": [
       "0.8900238338440586"
      ]
     },
     "execution_count": 142,
     "metadata": {},
     "output_type": "execute_result"
    }
   ],
   "source": [
    "precision_score(paws_df.actual, paws_df.model1, pos_label='dog')"
   ]
  },
  {
   "cell_type": "code",
   "execution_count": 144,
   "id": "0423424a-3e2d-4522-bfba-695fc648a4dd",
   "metadata": {
    "tags": []
   },
   "outputs": [
    {
     "data": {
      "text/plain": [
       "0.8150057273768614"
      ]
     },
     "execution_count": 144,
     "metadata": {},
     "output_type": "execute_result"
    }
   ],
   "source": [
    "recall_score(paws_df.actual, paws_df.model1, pos_label='cat')"
   ]
  },
  {
   "cell_type": "code",
   "execution_count": 145,
   "id": "fc47b843-82d2-40dd-ae9d-aefba8c5d8bb",
   "metadata": {
    "tags": []
   },
   "outputs": [
    {
     "data": {
      "text/plain": [
       "0.803318992009834"
      ]
     },
     "execution_count": 145,
     "metadata": {},
     "output_type": "execute_result"
    }
   ],
   "source": [
    "recall_score(paws_df.actual, paws_df.model1, pos_label='dog')"
   ]
  },
  {
   "cell_type": "code",
   "execution_count": 147,
   "id": "7cfa1c5e-6af7-4ebe-9ee4-6f4d8645a663",
   "metadata": {
    "tags": []
   },
   "outputs": [
    {
     "data": {
      "text/plain": [
       "'              precision    recall  f1-score   support\\n\\n         cat       0.69      0.82      0.75      1746\\n         dog       0.89      0.80      0.84      3254\\n\\n    accuracy                           0.81      5000\\n   macro avg       0.79      0.81      0.80      5000\\nweighted avg       0.82      0.81      0.81      5000\\n'"
      ]
     },
     "execution_count": 147,
     "metadata": {},
     "output_type": "execute_result"
    }
   ],
   "source": [
    "classification_report(paws_df.actual, paws_df.model1)"
   ]
  },
  {
   "cell_type": "code",
   "execution_count": 148,
   "id": "5d4f0083-7030-4627-84a8-584f903624be",
   "metadata": {
    "tags": []
   },
   "outputs": [
    {
     "name": "stdout",
     "output_type": "stream",
     "text": [
      "              precision    recall  f1-score   support\n",
      "\n",
      "         cat       0.69      0.82      0.75      1746\n",
      "         dog       0.89      0.80      0.84      3254\n",
      "\n",
      "    accuracy                           0.81      5000\n",
      "   macro avg       0.79      0.81      0.80      5000\n",
      "weighted avg       0.82      0.81      0.81      5000\n",
      "\n"
     ]
    }
   ],
   "source": [
    "print(classification_report(paws_df.actual, paws_df.model1))"
   ]
  }
 ],
 "metadata": {
  "kernelspec": {
   "display_name": "Python 3 (ipykernel)",
   "language": "python",
   "name": "python3"
  },
  "language_info": {
   "codemirror_mode": {
    "name": "ipython",
    "version": 3
   },
   "file_extension": ".py",
   "mimetype": "text/x-python",
   "name": "python",
   "nbconvert_exporter": "python",
   "pygments_lexer": "ipython3",
   "version": "3.11.5"
  }
 },
 "nbformat": 4,
 "nbformat_minor": 5
}
